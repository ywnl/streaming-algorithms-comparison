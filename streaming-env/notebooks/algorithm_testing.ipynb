{
 "cells": [
  {
   "cell_type": "code",
   "execution_count": 9,
   "metadata": {},
   "outputs": [
    {
     "name": "stdout",
     "output_type": "stream",
     "text": [
      "Misra-Gries estimated counts:\n",
      "{'a': 8, 'd': 1}\n",
      "\n",
      "True counts:\n",
      "Counter({'a': 40, 'b': 30, 'c': 20, 'd': 10, 'e': 5})\n"
     ]
    }
   ],
   "source": [
    "import sys\n",
    "sys.path.append('../algorithms')  # Add path to import module\n",
    "\n",
    "from misra_gries import MisraGries\n",
    "from collections import Counter\n",
    "import random\n",
    "\n",
    "# Create a synthetic stream with skewed distribution\n",
    "stream = ['a'] * 40 + ['b'] * 30 + ['c'] * 20 + ['d'] * 10 + ['e'] * 5\n",
    "random.shuffle(stream)\n",
    "\n",
    "# Initialize with k = 3\n",
    "mg = MisraGries(k=3)\n",
    "\n",
    "for item in stream:\n",
    "    mg.update(item)\n",
    "\n",
    "print(\"Misra-Gries estimated counts:\")\n",
    "print(mg.get_counts())\n",
    "\n",
    "true_counts = Counter(stream)\n",
    "print(\"\\nTrue counts:\")\n",
    "print(true_counts)\n"
   ]
  },
  {
   "cell_type": "code",
   "execution_count": 10,
   "metadata": {},
   "outputs": [
    {
     "name": "stdout",
     "output_type": "stream",
     "text": [
      "Count-Min Sketch estimates:\n",
      "{'c': 20, 'd': 10, 'b': 30, 'e': 5, 'a': 40}\n",
      "\n",
      "True counts:\n",
      "{'a': 40, 'b': 30, 'e': 5, 'c': 20, 'd': 10}\n"
     ]
    }
   ],
   "source": [
    "from count_min_sketch import CountMinSketch\n",
    "\n",
    "# Create the same synthetic stream\n",
    "stream = ['a'] * 40 + ['b'] * 30 + ['c'] * 20 + ['d'] * 10 + ['e'] * 5\n",
    "random.shuffle(stream)\n",
    "\n",
    "# Initialize CMS with width and depth\n",
    "cms = CountMinSketch(width=50, depth=5)\n",
    "\n",
    "# Feed in the stream\n",
    "for item in stream:\n",
    "    cms.update(item)\n",
    "\n",
    "# Get estimates for all items\n",
    "cms_estimates = {item: cms.estimate(item) for item in set(stream)}\n",
    "\n",
    "# Print comparisons\n",
    "print(\"Count-Min Sketch estimates:\")\n",
    "print(cms_estimates)\n",
    "\n",
    "print(\"\\nTrue counts:\")\n",
    "print(dict(Counter(stream)))\n"
   ]
  },
  {
   "cell_type": "code",
   "execution_count": 11,
   "metadata": {},
   "outputs": [
    {
     "name": "stdout",
     "output_type": "stream",
     "text": [
      "Count-Min Sketch estimates:\n",
      "{1: 40, 2: 30, 3: 20, 4: 10, 5: 5}\n",
      "\n",
      "True counts:\n",
      "{1: 40, 2: 30, 3: 20, 5: 5, 4: 10}\n"
     ]
    }
   ],
   "source": [
    "stream1 = [1] * 40 + [2] * 30 + [3] * 20 + [4] * 10 + [5] * 5\n",
    "random.shuffle(stream1)\n",
    "\n",
    "# Initialize CMS with width and depth\n",
    "cms1 = CountMinSketch(width=50, depth=5)\n",
    "\n",
    "# Feed in the stream\n",
    "for item in stream1:\n",
    "    cms1.update(item)\n",
    "\n",
    "# Get estimates for all items\n",
    "cms_estimates1 = {item: cms1.estimate(item) for item in set(stream1)}\n",
    "\n",
    "# Print comparisons\n",
    "print(\"Count-Min Sketch estimates:\")\n",
    "print(cms_estimates1)\n",
    "\n",
    "print(\"\\nTrue counts:\")\n",
    "print(dict(Counter(stream1)))"
   ]
  },
  {
   "cell_type": "code",
   "execution_count": null,
   "metadata": {},
   "outputs": [
    {
     "name": "stdout",
     "output_type": "stream",
     "text": [
      "Basic Count Sketch estimates:\n",
      "{'c': 20, 'd': 10, 'b': 30, 'e': 5, 'a': 40}\n",
      "\n",
      "True counts:\n",
      "{'b': 30, 'a': 40, 'e': 5, 'c': 20, 'd': 10}\n"
     ]
    }
   ],
   "source": [
    "from count_sketch import BasicCountSketch\n",
    "\n",
    "# Create a stream\n",
    "stream = ['a'] * 40 + ['b'] * 30 + ['c'] * 20 + ['d'] * 10 + ['e'] * 5\n",
    "random.shuffle(stream)\n",
    "\n",
    "# Initialize basic Count Sketch\n",
    "bcs = BasicCountSketch(width=50)\n",
    "\n",
    "# Feed the stream\n",
    "for item in stream:\n",
    "    bcs.update(item)\n",
    "\n",
    "# Estimate frequencies\n",
    "bcs_estimates = {item: bcs.estimate(item) for item in set(stream)}\n",
    "\n",
    "print(\"Basic Count Sketch estimates:\")\n",
    "print(bcs_estimates)\n",
    "\n",
    "print(\"\\nTrue counts:\")\n",
    "print(dict(Counter(stream)))\n"
   ]
  },
  {
   "cell_type": "code",
   "execution_count": 13,
   "metadata": {},
   "outputs": [
    {
     "name": "stdout",
     "output_type": "stream",
     "text": [
      "Count Sketch estimates:\n",
      "{'c': 20, 'd': 10, 'b': 30, 'e': 5, 'a': 40}\n",
      "\n",
      "True counts:\n",
      "{'b': 30, 'a': 40, 'e': 5, 'c': 20, 'd': 10}\n"
     ]
    }
   ],
   "source": [
    "from count_median import CountSketchMedian\n",
    "\n",
    "# Create the same synthetic stream\n",
    "stream = ['a'] * 40 + ['b'] * 30 + ['c'] * 20 + ['d'] * 10 + ['e'] * 5\n",
    "random.shuffle(stream)\n",
    "\n",
    "# Initialize Count Sketch\n",
    "cs = CountSketchMedian(width=50, depth=5)\n",
    "\n",
    "# Feed the stream\n",
    "for item in stream:\n",
    "    cs.update(item)\n",
    "\n",
    "# Estimate counts\n",
    "cs_estimates = {item: cs.estimate(item) for item in set(stream)}\n",
    "\n",
    "# Print comparisons\n",
    "print(\"Count Sketch estimates:\")\n",
    "print(cs_estimates)\n",
    "\n",
    "print(\"\\nTrue counts:\")\n",
    "print(dict(Counter(stream)))\n"
   ]
  },
  {
   "cell_type": "code",
   "execution_count": null,
   "metadata": {},
   "outputs": [],
   "source": []
  }
 ],
 "metadata": {
  "kernelspec": {
   "display_name": "streaming-env",
   "language": "python",
   "name": "python3"
  },
  "language_info": {
   "codemirror_mode": {
    "name": "ipython",
    "version": 3
   },
   "file_extension": ".py",
   "mimetype": "text/x-python",
   "name": "python",
   "nbconvert_exporter": "python",
   "pygments_lexer": "ipython3",
   "version": "3.9.7"
  }
 },
 "nbformat": 4,
 "nbformat_minor": 2
}
